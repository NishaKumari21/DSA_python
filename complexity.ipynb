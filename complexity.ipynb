{
 "cells": [
  {
   "cell_type": "markdown",
   "id": "35aeb9c9-f244-4228-ac10-4838a46f2b32",
   "metadata": {},
   "source": [
    "# complexity:"
   ]
  },
  {
   "cell_type": "markdown",
   "id": "903f0da7-9a3e-4594-a0f4-b8d315d002c7",
   "metadata": {},
   "source": [
    "# constant complexity"
   ]
  },
  {
   "cell_type": "code",
   "execution_count": 19,
   "id": "d2fa0c26-17be-4cfa-9832-0882442550b1",
   "metadata": {},
   "outputs": [
    {
     "data": {
      "text/plain": [
       "5"
      ]
     },
     "execution_count": 19,
     "metadata": {},
     "output_type": "execute_result"
    }
   ],
   "source": [
    "# for constant:O(1)\n",
    "def add(x,y):\n",
    "    return x+y\n",
    "add(2,3)"
   ]
  },
  {
   "cell_type": "markdown",
   "id": "4213bf99-fa2c-451d-b4cf-751df0fd154c",
   "metadata": {},
   "source": [
    "# logorithmic complexity:"
   ]
  },
  {
   "cell_type": "code",
   "execution_count": 22,
   "id": "6a19112c-5ff9-4bdf-85d7-191b3dafbf8d",
   "metadata": {},
   "outputs": [
    {
     "name": "stdout",
     "output_type": "stream",
     "text": [
      "2\n"
     ]
    }
   ],
   "source": [
    "\n",
    "# eg:BINARY SEARCH\n",
    "def binary_s(arr,x,low,high):\n",
    "    while(high>=low):\n",
    "        mid=(high+low)//2\n",
    "        if(arr[mid]==x):\n",
    "            return mid\n",
    "        elif (arr[mid]>x):\n",
    "            return binary_s(arr,low,mid+1,x)\n",
    "        else:\n",
    "            return binary_s(arr,mid-1,high,x)\n",
    "arr=(3,4,5,6,7,23)\n",
    "low=0\n",
    "high=len(arr)-1\n",
    "x=5\n",
    "result=binary_s(arr,x,low,high)\n",
    "print(result)"
   ]
  },
  {
   "cell_type": "markdown",
   "id": "d762dc76-e23d-4262-ab1a-1429bd712977",
   "metadata": {},
   "source": [
    "# linear complexity"
   ]
  },
  {
   "cell_type": "code",
   "execution_count": 31,
   "id": "8592fc65-aaec-4de9-adcd-9fa026fa346c",
   "metadata": {},
   "outputs": [
    {
     "name": "stdout",
     "output_type": "stream",
     "text": [
      "2\n"
     ]
    }
   ],
   "source": [
    "# eg:linear search\n",
    "def linear_s(arr,x):\n",
    "    for i in range(len(arr)):\n",
    "        if arr[i]==x:\n",
    "            return i\n",
    "    return -1\n",
    "arr=[2,3,4,56]\n",
    "x=4\n",
    "result=linear_s(arr,x)\n",
    "print(result)"
   ]
  },
  {
   "cell_type": "markdown",
   "id": "5d58892c-0fdd-4c6b-9f42-b97e78618b1c",
   "metadata": {},
   "source": [
    "# Quadratic Complexity"
   ]
  },
  {
   "cell_type": "code",
   "execution_count": 36,
   "id": "0e0a548a-7cd9-416c-9e09-5d05f6c867fc",
   "metadata": {},
   "outputs": [
    {
     "name": "stdout",
     "output_type": "stream",
     "text": [
      "0 0\n",
      "0 1\n",
      "0 2\n",
      "1 0\n",
      "1 1\n",
      "1 2\n",
      "2 0\n",
      "2 1\n",
      "2 2\n"
     ]
    }
   ],
   "source": [
    "def quadratic_time(n):\n",
    "    for i in range(n):\n",
    "        for j in range(n):\n",
    "            print(i, j)  # Runs n*n times\n",
    "\n",
    "quadratic_time(3)\n",
    "# for loop multiply both loop complexity i.e O(n)*O(n)=O(n2)"
   ]
  },
  {
   "cell_type": "markdown",
   "id": "eb6f98d2-de11-451e-859d-9496d1f9d705",
   "metadata": {},
   "source": [
    "# Factorial Complexity"
   ]
  },
  {
   "cell_type": "code",
   "execution_count": 43,
   "id": "13998127-1eca-489a-918c-e9e76ba68a49",
   "metadata": {},
   "outputs": [
    {
     "name": "stdout",
     "output_type": "stream",
     "text": [
      "120\n"
     ]
    }
   ],
   "source": [
    "def fact(n):\n",
    "    if n<=1:\n",
    "        return 1\n",
    "    else:\n",
    "        return n*fact(n-1)\n",
    "n=5\n",
    "result=fact(n)\n",
    "print(result)"
   ]
  },
  {
   "cell_type": "code",
   "execution_count": null,
   "id": "0f58d726-de64-4dc5-b66b-4ac1f8cbf6bf",
   "metadata": {},
   "outputs": [],
   "source": []
  }
 ],
 "metadata": {
  "kernelspec": {
   "display_name": "Python 3 (ipykernel)",
   "language": "python",
   "name": "python3"
  },
  "language_info": {
   "codemirror_mode": {
    "name": "ipython",
    "version": 3
   },
   "file_extension": ".py",
   "mimetype": "text/x-python",
   "name": "python",
   "nbconvert_exporter": "python",
   "pygments_lexer": "ipython3",
   "version": "3.12.7"
  },
  "widgets": {
   "application/vnd.jupyter.widget-state+json": {
    "state": {},
    "version_major": 2,
    "version_minor": 0
   }
  }
 },
 "nbformat": 4,
 "nbformat_minor": 5
}
