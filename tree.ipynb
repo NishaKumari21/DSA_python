{
 "cells": [
  {
   "cell_type": "code",
   "execution_count": 1,
   "metadata": {},
   "outputs": [
    {
     "name": "stdout",
     "output_type": "stream",
     "text": [
      "inorder traversal\n",
      "4->2->5->1->3->\n",
      "\n",
      "preorder traversal\n",
      "1->2->4->5->3->\n",
      "\n",
      "postorder traversal\n",
      "2->4->5->3->1->"
     ]
    }
   ],
   "source": [
    "class Node:\n",
    "    def __init__(self, data):\n",
    "        self.data = data\n",
    "        self.left = None\n",
    "        self.right = None\n",
    "\n",
    "def inorder(root):\n",
    "    if root:\n",
    "        inorder(root.left)  \n",
    "        print(str(root.data) + \"->\", end=\"\")\n",
    "        inorder(root.right)  \n",
    "\n",
    "\n",
    "def preorder(root):\n",
    "    if root:\n",
    "         print(str(root.data) + \"->\", end=\"\")\n",
    "         preorder(root.left)  \n",
    "         preorder(root.right) \n",
    "         \n",
    "def postorder(root):\n",
    "    if root:\n",
    "         preorder(root.left)  \n",
    "         preorder(root.right)  \n",
    "         print(str(root.data) + \"->\", end=\"\")\n",
    "         \n",
    "# Creating the binary tree\n",
    "root = Node(1)\n",
    "root.left = Node(2)\n",
    "root.right = Node(3)\n",
    "root.left.left = Node(4)\n",
    "root.left.right = Node(5)\n",
    "\n",
    "# Perform inorder traversal\n",
    "print(\"inorder traversal\")\n",
    "inorder(root)\n",
    "print(\"\\n\")\n",
    "# Perform preorder traversal\n",
    "print(\"preorder traversal\")\n",
    "preorder(root)\n",
    "print(\"\\n\")\n",
    "# Perform postorder traversal\n",
    "print(\"postorder traversal\")\n",
    "postorder(root)\n"
   ]
  }
 ],
 "metadata": {
  "kernelspec": {
   "display_name": "Python 3",
   "language": "python",
   "name": "python3"
  },
  "language_info": {
   "codemirror_mode": {
    "name": "ipython",
    "version": 3
   },
   "file_extension": ".py",
   "mimetype": "text/x-python",
   "name": "python",
   "nbconvert_exporter": "python",
   "pygments_lexer": "ipython3",
   "version": "3.12.2"
  }
 },
 "nbformat": 4,
 "nbformat_minor": 2
}
