{
 "cells": [
  {
   "cell_type": "markdown",
   "id": "d8662f80-9fc7-45db-a734-b7f94de62327",
   "metadata": {},
   "source": [
    "Input: n = 5\n",
    "Output: 5 10 15 20 25 30 35 40 45 50"
   ]
  },
  {
   "cell_type": "code",
   "execution_count": 7,
   "id": "2abc295c-181b-4456-b8ac-173ba87d80e0",
   "metadata": {},
   "outputs": [
    {
     "name": "stdin",
     "output_type": "stream",
     "text": [
      " 5\n"
     ]
    },
    {
     "name": "stdout",
     "output_type": "stream",
     "text": [
      "5 10 15 20 25 30 35 40 45 50 "
     ]
    }
   ],
   "source": [
    "n=int(input())\n",
    "for i in range(1,11):\n",
    " print(n*i,end=\" \")"
   ]
  },
  {
   "cell_type": "markdown",
   "id": "74dd5a74-1f2a-4151-829d-8027cdd19f7d",
   "metadata": {},
   "source": [
    "Input: s = \"Geeks\"\n",
    "Output: Ges\n",
    "Explanation: The even indices characters are printed."
   ]
  },
  {
   "cell_type": "code",
   "execution_count": 13,
   "id": "4d51bd43-829f-487b-8b0e-838bd8f6a97c",
   "metadata": {},
   "outputs": [
    {
     "name": "stdin",
     "output_type": "stream",
     "text": [
      " nisha\n"
     ]
    },
    {
     "name": "stdout",
     "output_type": "stream",
     "text": [
      "nsa\n"
     ]
    }
   ],
   "source": [
    "s=input()\n",
    "print(s[::2])\n",
    " "
   ]
  },
  {
   "cell_type": "markdown",
   "id": "5e3080c6-bcf8-4e79-a3bc-f25129747d06",
   "metadata": {},
   "source": [
    "Input: x = 3\n",
    "Output: 3 2 1 0\n",
    "Explanation: Numbers in decreasing order from 3 are 3 2 1 0."
   ]
  },
  {
   "cell_type": "code",
   "execution_count": 19,
   "id": "2747ae39-22a6-4283-9bac-c50316782a19",
   "metadata": {},
   "outputs": [
    {
     "name": "stdin",
     "output_type": "stream",
     "text": [
      " 3\n"
     ]
    },
    {
     "name": "stdout",
     "output_type": "stream",
     "text": [
      "0\n",
      "1\n",
      "2\n"
     ]
    }
   ],
   "source": [
    "x=int(input())\n",
    "for i in range(x):\n",
    "    print(i)\n",
    "   "
   ]
  },
  {
   "cell_type": "code",
   "execution_count": 33,
   "id": "002b0394-5b1e-4fe5-88d5-877230ed29eb",
   "metadata": {},
   "outputs": [
    {
     "name": "stdin",
     "output_type": "stream",
     "text": [
      " 3\n"
     ]
    },
    {
     "name": "stdout",
     "output_type": "stream",
     "text": [
      "3 2 1 0 "
     ]
    }
   ],
   "source": [
    "x = int(input())  # Take user input\n",
    "for i in range(x,-1, -1):  # Start from x, go down to 1\n",
    "    print(i,end=\" \")"
   ]
  },
  {
   "cell_type": "markdown",
   "id": "25269dd5-8267-4255-b77b-64e5ace3ef57",
   "metadata": {},
   "source": [
    "Input: n1 = 9, n2 = 4\n",
    "Output: 5 10 15 20 25 30 35 40 45 50 \n",
    "Explanation:\n",
    "  9 18 27 36 45 54 63 72 81 90\n",
    "- 4  8 12 16 20 24 28 32 36 40\n",
    "-----------------------------------------\n",
    "= 5 10 15 20 25 30 35 40 45 50"
   ]
  },
  {
   "cell_type": "code",
   "execution_count": 49,
   "id": "51723adb-1aea-4394-8372-9483137dc64b",
   "metadata": {},
   "outputs": [
    {
     "name": "stdin",
     "output_type": "stream",
     "text": [
      " 9\n",
      " 4\n"
     ]
    },
    {
     "name": "stdout",
     "output_type": "stream",
     "text": [
      "-5 -10 -15 -20 -25 -30 -35 -40 -45 -50 "
     ]
    }
   ],
   "source": [
    "n1=int(input())\n",
    "n2=int(input())\n",
    "for i in range(1,11):\n",
    " e1=n1*i\n",
    " e2=n2*i\n",
    " print(e2-e1,end=\" \")"
   ]
  },
  {
   "cell_type": "code",
   "execution_count": 47,
   "id": "b1d17d6a-0908-4b23-b35f-baea9909342a",
   "metadata": {},
   "outputs": [
    {
     "name": "stdin",
     "output_type": "stream",
     "text": [
      " 9\n",
      " 4\n"
     ]
    },
    {
     "name": "stdout",
     "output_type": "stream",
     "text": [
      "-5 -10 -15 -20 -25 -30 -35 -40 -45 -50 "
     ]
    }
   ],
   "source": [
    "n1 = int(input())  # First number\n",
    "n2 = int(input())  # Second number\n",
    "\n",
    "for i in range(1, 11):  # Multiplication table from 1 to 10\n",
    "    e1 = n1 * i\n",
    "    e2 = n2 * i\n",
    "    print(e2 - e1, end=\" \")  # Print difference in one line\n"
   ]
  },
  {
   "cell_type": "markdown",
   "id": "3794871e-d77c-4577-a6d8-8d816568b1ed",
   "metadata": {},
   "source": [
    "Input: n = 4\n",
    "Output:\n",
    "* * * *\n",
    "*     *\n",
    "*     *\n",
    "* * * *\n",
    "Explanation: It's a square! Each side contains n = 4 ."
   ]
  },
  {
   "cell_type": "code",
   "execution_count": 51,
   "id": "d2cdc4a6-7a35-415b-afa5-26a7f1c2d799",
   "metadata": {},
   "outputs": [
    {
     "name": "stdin",
     "output_type": "stream",
     "text": [
      " 4\n"
     ]
    },
    {
     "name": "stdout",
     "output_type": "stream",
     "text": [
      "1 1\n",
      "1 2\n",
      "1 3\n",
      "2 1\n",
      "2 2\n",
      "2 3\n",
      "3 1\n",
      "3 2\n",
      "3 3\n"
     ]
    }
   ],
   "source": [
    "n=int(input())\n",
    "for i in range(1,n):\n",
    "    for j in range(1,n):\n",
    "        print(i,j)"
   ]
  },
  {
   "cell_type": "code",
   "execution_count": 53,
   "id": "1ecf8833-008d-4a3f-979a-4459a4ccc2cc",
   "metadata": {},
   "outputs": [
    {
     "name": "stdin",
     "output_type": "stream",
     "text": [
      " 4\n"
     ]
    },
    {
     "name": "stdout",
     "output_type": "stream",
     "text": [
      "* * * * \n",
      "*     * \n",
      "*     * \n",
      "* * * * \n"
     ]
    }
   ],
   "source": [
    "n = int(input())  # Take user input\n",
    "\n",
    "for i in range(n):  # Loop for rows\n",
    "    for j in range(n):  # Loop for columns\n",
    "        # Print '*' at border positions, else print space\n",
    "        if i == 0 or i == n - 1 or j == 0 or j == n - 1:\n",
    "            print(\"*\", end=\" \")\n",
    "        else:\n",
    "            print(\" \", end=\" \")\n",
    "    print()  # Move to the next line\n"
   ]
  },
  {
   "cell_type": "markdown",
   "id": "4b1c18be-9df5-442a-9870-03e83d1e776d",
   "metadata": {},
   "source": [
    "Input: n = 10\n",
    "Output: 55\n",
    "Explanation: 1 + 2 + 3 + 4 + 5 + 6 + 7 + 8 + 9 + 10 = 55."
   ]
  },
  {
   "cell_type": "code",
   "execution_count": 59,
   "id": "fb771d65-7eb0-4b45-8b7f-d2a5a3089105",
   "metadata": {},
   "outputs": [
    {
     "name": "stdin",
     "output_type": "stream",
     "text": [
      " 10\n"
     ]
    },
    {
     "name": "stdout",
     "output_type": "stream",
     "text": [
      "55\n"
     ]
    }
   ],
   "source": [
    "n=int(input())\n",
    "a=(n*(n+1)/2)\n",
    "print(int(a))"
   ]
  },
  {
   "cell_type": "markdown",
   "id": "518a1327-8aae-49b3-88b7-a8d5dd40ae11",
   "metadata": {},
   "source": [
    "Input: n = 5\n",
    "Output: 120\n",
    "Explanation: 1 * 2 * 3 * 4 * 5 = 120"
   ]
  },
  {
   "cell_type": "code",
   "execution_count": 61,
   "id": "76d583a6-8239-42b9-a487-0f185d224ec6",
   "metadata": {},
   "outputs": [
    {
     "name": "stdin",
     "output_type": "stream",
     "text": [
      " 5\n"
     ]
    },
    {
     "name": "stdout",
     "output_type": "stream",
     "text": [
      "0\n",
      "5\n",
      "10\n",
      "15\n",
      "20\n"
     ]
    }
   ],
   "source": [
    "n=int(input())\n",
    "for i in range(n):\n",
    "    print(i*n)"
   ]
  },
  {
   "cell_type": "code",
   "execution_count": 67,
   "id": "2eac6c7b-beec-4ee4-bbfa-c98f7bf30ace",
   "metadata": {},
   "outputs": [
    {
     "name": "stdin",
     "output_type": "stream",
     "text": [
      "Enter a number:  5\n"
     ]
    },
    {
     "name": "stdout",
     "output_type": "stream",
     "text": [
      "Factorial of 5 is 120\n"
     ]
    }
   ],
   "source": [
    "def factorial(n):\n",
    "    if n == 0 or n == 1:  # Base case\n",
    "        return 1\n",
    "    else:\n",
    "        return n * factorial(n - 1)  # Recursive call\n",
    "\n",
    "n = int(input(\"Enter a number: \"))\n",
    "print(f\"Factorial of {n} is {factorial(n)}\")\n"
   ]
  },
  {
   "cell_type": "code",
   "execution_count": null,
   "id": "e30fd013-f370-4643-810f-d5cf950c8107",
   "metadata": {},
   "outputs": [],
   "source": []
  }
 ],
 "metadata": {
  "kernelspec": {
   "display_name": "Python 3 (ipykernel)",
   "language": "python",
   "name": "python3"
  },
  "language_info": {
   "codemirror_mode": {
    "name": "ipython",
    "version": 3
   },
   "file_extension": ".py",
   "mimetype": "text/x-python",
   "name": "python",
   "nbconvert_exporter": "python",
   "pygments_lexer": "ipython3",
   "version": "3.12.7"
  },
  "widgets": {
   "application/vnd.jupyter.widget-state+json": {
    "state": {},
    "version_major": 2,
    "version_minor": 0
   }
  }
 },
 "nbformat": 4,
 "nbformat_minor": 5
}
