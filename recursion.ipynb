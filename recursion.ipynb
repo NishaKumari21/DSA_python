{
 "cells": [
  {
   "cell_type": "code",
   "execution_count": 7,
   "metadata": {},
   "outputs": [
    {
     "name": "stdout",
     "output_type": "stream",
     "text": [
      "Factorial of number:  120\n"
     ]
    }
   ],
   "source": [
    "# factorial of a number using the recursion:\n",
    "# time complexity: 0(n)\n",
    "def fact(n):\n",
    "    # base condition:which result in termination(small problem)\n",
    "    if n==0 or n==1:\n",
    "        return 1\n",
    "    else:\n",
    "        result=n*fact(n-1)\n",
    "        return result\n",
    "    \n",
    "n=int(input(\"enter the value of n\"))\n",
    "a=fact(n)\n",
    "print(\"Factorial of number: \",a)"
   ]
  },
  {
   "cell_type": "markdown",
   "metadata": {},
   "source": [
    "Iteration: uses loops for repetition.\n",
    "Recursion: uses function calls to solve a problem by breaking it into smaller instances of itself."
   ]
  },
  {
   "cell_type": "markdown",
   "metadata": {},
   "source": [
    "Iteration:A process where a set of instructions is repeatedly executed in a loop (e.g., for loop, while loop) until a certain condition is met.\n",
    "Recursion:A process where a function calls itself to solve smaller instances of the same problem, with each call reducing the problem until a base condition is met."
   ]
  },
  {
   "cell_type": "code",
   "execution_count": 18,
   "metadata": {},
   "outputs": [
    {
     "name": "stdout",
     "output_type": "stream",
     "text": [
      "24\n"
     ]
    }
   ],
   "source": [
    "def factorial(n): \n",
    "    if n <= 1: \n",
    "        return 1 \n",
    "    else: \n",
    "        return n * factorial(n-1) \n",
    "print(factorial(4))"
   ]
  },
  {
   "cell_type": "code",
   "execution_count": 11,
   "metadata": {},
   "outputs": [
    {
     "name": "stdout",
     "output_type": "stream",
     "text": [
      "Factorial of number:  120\n"
     ]
    }
   ],
   "source": [
    "# Iterative Code for the factorial of a number:\n",
    "# time complexity: 0(n) becos using the only single loop\n",
    "\n",
    "def fact(n):\n",
    "    result=1\n",
    "    # base condition:which result in termination(small problem)\n",
    "    if n==0 or n==1:\n",
    "        return 1\n",
    "    else:\n",
    "        # iterative approach using the loop (for)\n",
    "        for i in range(2,n+1):\n",
    "            result=result *i\n",
    "        return result\n",
    "    \n",
    "n=5\n",
    "a=fact(n)\n",
    "print(\"Factorial of number: \",a)"
   ]
  },
  {
   "cell_type": "code",
   "execution_count": 17,
   "metadata": {},
   "outputs": [
    {
     "name": "stdout",
     "output_type": "stream",
     "text": [
      "0\n",
      "1\n",
      "1\n",
      "2\n",
      "3\n",
      "5\n",
      "8\n",
      "13\n",
      "21\n",
      "34\n"
     ]
    }
   ],
   "source": [
    "def fibo(n):\n",
    "    if n<=1:\n",
    "        return n\n",
    "    else:\n",
    "        return fibo(n-1)+fibo(n-2)\n",
    "n=10\n",
    "for i in range(n):\n",
    "    print(fibo(i))"
   ]
  },
  {
   "cell_type": "code",
   "execution_count": null,
   "metadata": {},
   "outputs": [],
   "source": []
  }
 ],
 "metadata": {
  "kernelspec": {
   "display_name": "Python 3",
   "language": "python",
   "name": "python3"
  },
  "language_info": {
   "codemirror_mode": {
    "name": "ipython",
    "version": 3
   },
   "file_extension": ".py",
   "mimetype": "text/x-python",
   "name": "python",
   "nbconvert_exporter": "python",
   "pygments_lexer": "ipython3",
   "version": "3.12.2"
  }
 },
 "nbformat": 4,
 "nbformat_minor": 2
}
